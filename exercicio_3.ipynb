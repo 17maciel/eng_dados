{
 "cells": [
  {
   "cell_type": "code",
   "execution_count": 1,
   "metadata": {},
   "outputs": [
    {
     "name": "stdout",
     "output_type": "stream",
     "text": [
      "Lista de frutas final:\n",
      "bananas\n",
      "maçãs\n",
      "peras\n",
      "uvas\n",
      "laranjas\n"
     ]
    }
   ],
   "source": [
    "# Inicialize a lista de frutas\n",
    "frutas = [\"bananas\", \"maçãs\", \"peras\", \"uvas\", \"laranjas\"]\n",
    "\n",
    "while True:\n",
    "    # Solicite ao usuário para inserir uma fruta ou 999 para sair\n",
    "    entrada = input(\"Informe uma fruta ou digite 999 para sair: \")\n",
    "\n",
    "    # Verifique se o usuário deseja sair\n",
    "    if entrada == \"999\":\n",
    "        break\n",
    "\n",
    "    # Verifique se a fruta já está na lista\n",
    "    if entrada in frutas:\n",
    "        print(f\"{entrada} já está na lista de frutas.\")\n",
    "    else:\n",
    "        # Adicione a nova fruta à lista\n",
    "        frutas.append(entrada)\n",
    "        print(f\"{entrada} foi adicionada à lista de frutas.\")\n",
    "\n",
    "# Imprima a lista de frutas atualizada\n",
    "print(\"Lista de frutas final:\")\n",
    "for fruta in frutas:\n",
    "    print(fruta)\n"
   ]
  }
 ],
 "metadata": {
  "kernelspec": {
   "display_name": "Python 3",
   "language": "python",
   "name": "python3"
  },
  "language_info": {
   "codemirror_mode": {
    "name": "ipython",
    "version": 3
   },
   "file_extension": ".py",
   "mimetype": "text/x-python",
   "name": "python",
   "nbconvert_exporter": "python",
   "pygments_lexer": "ipython3",
   "version": "3.11.0"
  }
 },
 "nbformat": 4,
 "nbformat_minor": 2
}
